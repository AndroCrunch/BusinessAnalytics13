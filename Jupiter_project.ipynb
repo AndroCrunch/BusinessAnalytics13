{
 "cells": [
  {
   "cell_type": "markdown",
   "metadata": {},
   "source": [
    "Group project"
   ]
  },
  {
   "cell_type": "markdown",
   "metadata": {},
   "source": [
    "Start with some imports. "
   ]
  },
  {
   "cell_type": "code",
   "execution_count": 2428,
   "metadata": {},
   "outputs": [],
   "source": [
    "import numpy as np\n",
    "import matplotlib.pyplot as plt\n",
    "import pandas as pd\n",
    "%matplotlib inline"
   ]
  },
  {
   "cell_type": "markdown",
   "metadata": {},
   "source": [
    "-----"
   ]
  },
  {
   "cell_type": "markdown",
   "metadata": {},
   "source": [
    "## Part 1a - Prediction challenge using binary classification"
   ]
  },
  {
   "cell_type": "markdown",
   "metadata": {},
   "source": [
    "Start by importing the data"
   ]
  },
  {
   "cell_type": "code",
   "execution_count": 2429,
   "metadata": {},
   "outputs": [],
   "source": [
    "#importing the dataset\n",
    "dataset = pd.read_csv('listings_CPH.csv')\n"
   ]
  },
  {
   "cell_type": "markdown",
   "metadata": {},
   "source": [
    "Take a look at the dataset"
   ]
  },
  {
   "cell_type": "code",
   "execution_count": 2430,
   "metadata": {},
   "outputs": [
    {
     "data": {
      "text/html": [
       "<div>\n",
       "<style scoped>\n",
       "    .dataframe tbody tr th:only-of-type {\n",
       "        vertical-align: middle;\n",
       "    }\n",
       "\n",
       "    .dataframe tbody tr th {\n",
       "        vertical-align: top;\n",
       "    }\n",
       "\n",
       "    .dataframe thead th {\n",
       "        text-align: right;\n",
       "    }\n",
       "</style>\n",
       "<table border=\"1\" class=\"dataframe\">\n",
       "  <thead>\n",
       "    <tr style=\"text-align: right;\">\n",
       "      <th></th>\n",
       "      <th>0</th>\n",
       "      <th>1</th>\n",
       "      <th>2</th>\n",
       "      <th>3</th>\n",
       "      <th>4</th>\n",
       "    </tr>\n",
       "  </thead>\n",
       "  <tbody>\n",
       "    <tr>\n",
       "      <th>id</th>\n",
       "      <td>6983</td>\n",
       "      <td>26057</td>\n",
       "      <td>26473</td>\n",
       "      <td>29118</td>\n",
       "      <td>31094</td>\n",
       "    </tr>\n",
       "    <tr>\n",
       "      <th>name</th>\n",
       "      <td>Copenhagen 'N Livin'</td>\n",
       "      <td>Lovely house - most attractive area</td>\n",
       "      <td>City Centre Townhouse Sleeps 1-10 persons</td>\n",
       "      <td>Best Location in Cool Istedgade</td>\n",
       "      <td>Beautiful, spacious, central, renovated Penthouse</td>\n",
       "    </tr>\n",
       "    <tr>\n",
       "      <th>host_id</th>\n",
       "      <td>16774</td>\n",
       "      <td>109777</td>\n",
       "      <td>112210</td>\n",
       "      <td>125230</td>\n",
       "      <td>129976</td>\n",
       "    </tr>\n",
       "    <tr>\n",
       "      <th>host_name</th>\n",
       "      <td>Simon</td>\n",
       "      <td>Kari</td>\n",
       "      <td>Julia</td>\n",
       "      <td>Nana</td>\n",
       "      <td>Ebbe</td>\n",
       "    </tr>\n",
       "    <tr>\n",
       "      <th>neighbourhood_group</th>\n",
       "      <td>NaN</td>\n",
       "      <td>NaN</td>\n",
       "      <td>NaN</td>\n",
       "      <td>NaN</td>\n",
       "      <td>NaN</td>\n",
       "    </tr>\n",
       "    <tr>\n",
       "      <th>neighbourhood</th>\n",
       "      <td>Nrrebro</td>\n",
       "      <td>Indre By</td>\n",
       "      <td>Indre By</td>\n",
       "      <td>Vesterbro-Kongens Enghave</td>\n",
       "      <td>Vesterbro-Kongens Enghave</td>\n",
       "    </tr>\n",
       "    <tr>\n",
       "      <th>latitude</th>\n",
       "      <td>55.68641</td>\n",
       "      <td>55.69307</td>\n",
       "      <td>55.67602</td>\n",
       "      <td>55.67023</td>\n",
       "      <td>55.666602</td>\n",
       "    </tr>\n",
       "    <tr>\n",
       "      <th>longitude</th>\n",
       "      <td>12.54741</td>\n",
       "      <td>12.57649</td>\n",
       "      <td>12.5754</td>\n",
       "      <td>12.55504</td>\n",
       "      <td>12.555283</td>\n",
       "    </tr>\n",
       "    <tr>\n",
       "      <th>room_type</th>\n",
       "      <td>Entire home/apt</td>\n",
       "      <td>Entire home/apt</td>\n",
       "      <td>Entire home/apt</td>\n",
       "      <td>Entire home/apt</td>\n",
       "      <td>Entire home/apt</td>\n",
       "    </tr>\n",
       "    <tr>\n",
       "      <th>price</th>\n",
       "      <td>898</td>\n",
       "      <td>2600</td>\n",
       "      <td>3250</td>\n",
       "      <td>725</td>\n",
       "      <td>1954</td>\n",
       "    </tr>\n",
       "    <tr>\n",
       "      <th>minimum_nights</th>\n",
       "      <td>3</td>\n",
       "      <td>4</td>\n",
       "      <td>3</td>\n",
       "      <td>7</td>\n",
       "      <td>3</td>\n",
       "    </tr>\n",
       "    <tr>\n",
       "      <th>number_of_reviews</th>\n",
       "      <td>172</td>\n",
       "      <td>59</td>\n",
       "      <td>300</td>\n",
       "      <td>24</td>\n",
       "      <td>19</td>\n",
       "    </tr>\n",
       "    <tr>\n",
       "      <th>last_review</th>\n",
       "      <td>2022-06-21</td>\n",
       "      <td>2022-08-09</td>\n",
       "      <td>2022-09-10</td>\n",
       "      <td>2022-08-04</td>\n",
       "      <td>2022-08-22</td>\n",
       "    </tr>\n",
       "    <tr>\n",
       "      <th>reviews_per_month</th>\n",
       "      <td>1.08</td>\n",
       "      <td>0.55</td>\n",
       "      <td>2.06</td>\n",
       "      <td>0.16</td>\n",
       "      <td>0.13</td>\n",
       "    </tr>\n",
       "    <tr>\n",
       "      <th>calculated_host_listings_count</th>\n",
       "      <td>1</td>\n",
       "      <td>1</td>\n",
       "      <td>3</td>\n",
       "      <td>1</td>\n",
       "      <td>1</td>\n",
       "    </tr>\n",
       "    <tr>\n",
       "      <th>availability_365</th>\n",
       "      <td>0</td>\n",
       "      <td>303</td>\n",
       "      <td>56</td>\n",
       "      <td>59</td>\n",
       "      <td>0</td>\n",
       "    </tr>\n",
       "    <tr>\n",
       "      <th>number_of_reviews_ltm</th>\n",
       "      <td>4</td>\n",
       "      <td>8</td>\n",
       "      <td>7</td>\n",
       "      <td>2</td>\n",
       "      <td>2</td>\n",
       "    </tr>\n",
       "    <tr>\n",
       "      <th>license</th>\n",
       "      <td>NaN</td>\n",
       "      <td>NaN</td>\n",
       "      <td>NaN</td>\n",
       "      <td>NaN</td>\n",
       "      <td>NaN</td>\n",
       "    </tr>\n",
       "  </tbody>\n",
       "</table>\n",
       "</div>"
      ],
      "text/plain": [
       "                                                   0  \\\n",
       "id                                              6983   \n",
       "name                            Copenhagen 'N Livin'   \n",
       "host_id                                        16774   \n",
       "host_name                                      Simon   \n",
       "neighbourhood_group                              NaN   \n",
       "neighbourhood                                Nrrebro   \n",
       "latitude                                    55.68641   \n",
       "longitude                                   12.54741   \n",
       "room_type                            Entire home/apt   \n",
       "price                                            898   \n",
       "minimum_nights                                     3   \n",
       "number_of_reviews                                172   \n",
       "last_review                               2022-06-21   \n",
       "reviews_per_month                               1.08   \n",
       "calculated_host_listings_count                     1   \n",
       "availability_365                                   0   \n",
       "number_of_reviews_ltm                              4   \n",
       "license                                          NaN   \n",
       "\n",
       "                                                                  1  \\\n",
       "id                                                            26057   \n",
       "name                            Lovely house - most attractive area   \n",
       "host_id                                                      109777   \n",
       "host_name                                                      Kari   \n",
       "neighbourhood_group                                             NaN   \n",
       "neighbourhood                                              Indre By   \n",
       "latitude                                                   55.69307   \n",
       "longitude                                                  12.57649   \n",
       "room_type                                           Entire home/apt   \n",
       "price                                                          2600   \n",
       "minimum_nights                                                    4   \n",
       "number_of_reviews                                                59   \n",
       "last_review                                              2022-08-09   \n",
       "reviews_per_month                                              0.55   \n",
       "calculated_host_listings_count                                    1   \n",
       "availability_365                                                303   \n",
       "number_of_reviews_ltm                                             8   \n",
       "license                                                         NaN   \n",
       "\n",
       "                                                                        2  \\\n",
       "id                                                                  26473   \n",
       "name                            City Centre Townhouse Sleeps 1-10 persons   \n",
       "host_id                                                            112210   \n",
       "host_name                                                           Julia   \n",
       "neighbourhood_group                                                   NaN   \n",
       "neighbourhood                                                    Indre By   \n",
       "latitude                                                         55.67602   \n",
       "longitude                                                         12.5754   \n",
       "room_type                                                 Entire home/apt   \n",
       "price                                                                3250   \n",
       "minimum_nights                                                          3   \n",
       "number_of_reviews                                                     300   \n",
       "last_review                                                    2022-09-10   \n",
       "reviews_per_month                                                    2.06   \n",
       "calculated_host_listings_count                                          3   \n",
       "availability_365                                                       56   \n",
       "number_of_reviews_ltm                                                   7   \n",
       "license                                                               NaN   \n",
       "\n",
       "                                                              3  \\\n",
       "id                                                        29118   \n",
       "name                            Best Location in Cool Istedgade   \n",
       "host_id                                                  125230   \n",
       "host_name                                                  Nana   \n",
       "neighbourhood_group                                         NaN   \n",
       "neighbourhood                         Vesterbro-Kongens Enghave   \n",
       "latitude                                               55.67023   \n",
       "longitude                                              12.55504   \n",
       "room_type                                       Entire home/apt   \n",
       "price                                                       725   \n",
       "minimum_nights                                                7   \n",
       "number_of_reviews                                            24   \n",
       "last_review                                          2022-08-04   \n",
       "reviews_per_month                                          0.16   \n",
       "calculated_host_listings_count                                1   \n",
       "availability_365                                             59   \n",
       "number_of_reviews_ltm                                         2   \n",
       "license                                                     NaN   \n",
       "\n",
       "                                                                                4  \n",
       "id                                                                          31094  \n",
       "name                            Beautiful, spacious, central, renovated Penthouse  \n",
       "host_id                                                                    129976  \n",
       "host_name                                                                    Ebbe  \n",
       "neighbourhood_group                                                           NaN  \n",
       "neighbourhood                                           Vesterbro-Kongens Enghave  \n",
       "latitude                                                                55.666602  \n",
       "longitude                                                               12.555283  \n",
       "room_type                                                         Entire home/apt  \n",
       "price                                                                        1954  \n",
       "minimum_nights                                                                  3  \n",
       "number_of_reviews                                                              19  \n",
       "last_review                                                            2022-08-22  \n",
       "reviews_per_month                                                            0.13  \n",
       "calculated_host_listings_count                                                  1  \n",
       "availability_365                                                                0  \n",
       "number_of_reviews_ltm                                                           2  \n",
       "license                                                                       NaN  "
      ]
     },
     "execution_count": 2430,
     "metadata": {},
     "output_type": "execute_result"
    }
   ],
   "source": [
    "#take a look at the dataset\n",
    "dataset.head().T"
   ]
  },
  {
   "cell_type": "markdown",
   "metadata": {},
   "source": [
    "Want to make a fiew plots to get a better overview of the data"
   ]
  },
  {
   "cell_type": "code",
   "execution_count": 2431,
   "metadata": {},
   "outputs": [
    {
     "data": {
      "text/plain": [
       "id                                False\n",
       "name                              False\n",
       "host_id                           False\n",
       "host_name                         False\n",
       "neighbourhood_group                True\n",
       "neighbourhood                     False\n",
       "latitude                          False\n",
       "longitude                         False\n",
       "room_type                         False\n",
       "price                             False\n",
       "minimum_nights                    False\n",
       "number_of_reviews                 False\n",
       "last_review                       False\n",
       "reviews_per_month                 False\n",
       "calculated_host_listings_count    False\n",
       "availability_365                  False\n",
       "number_of_reviews_ltm             False\n",
       "license                            True\n",
       "dtype: bool"
      ]
     },
     "execution_count": 2431,
     "metadata": {},
     "output_type": "execute_result"
    }
   ],
   "source": [
    "#which columns only include nan values?\n",
    "dataset.isnull().all()\n"
   ]
  },
  {
   "cell_type": "code",
   "execution_count": 2432,
   "metadata": {},
   "outputs": [],
   "source": [
    "#drop the columns that are always nan\n",
    "dataset = dataset.drop(['license','neighbourhood_group'], axis=1)\n",
    "#drop dtada that have availability 365 = 0\n",
    "dataset = dataset[dataset.availability_365 != 0]"
   ]
  },
  {
   "cell_type": "code",
   "execution_count": 2433,
   "metadata": {},
   "outputs": [
    {
     "data": {
      "text/plain": [
       "<matplotlib.collections.PathCollection at 0x7fcaffb3c130>"
      ]
     },
     "execution_count": 2433,
     "metadata": {},
     "output_type": "execute_result"
    },
    {
     "data": {
      "image/png": "[encoded data removed]",
      "text/plain": [
       "<Figure size 432x288 with 1 Axes>"
      ]
     },
     "metadata": {
      "needs_background": "light"
     },
     "output_type": "display_data"
    }
   ],
   "source": [
    "#plot reviews aghainst the price\n",
    "plt.scatter(dataset['reviews_per_month'], dataset['price'])"
   ]
  },
  {
   "cell_type": "markdown",
   "metadata": {},
   "source": [
    "Remove the outliers "
   ]
  },
  {
   "cell_type": "code",
   "execution_count": 2434,
   "metadata": {},
   "outputs": [
    {
     "name": "stdout",
     "output_type": "stream",
     "text": [
      "5\n",
      "2\n"
     ]
    }
   ],
   "source": [
    "#check how many values are larger than 20000 and less than 100\n",
    "print(len(dataset[dataset['price'] > 15000]))\n",
    "print(len(dataset[dataset['price'] < 150]))\n",
    "#removie outliers\n",
    "#remove data with price > 20000 and price < 100\n",
    "#dataset = dataset[dataset['price'] < 15000]\n",
    "#dataset = dataset[dataset['price'] > 100]"
   ]
  },
  {
   "cell_type": "code",
   "execution_count": 2435,
   "metadata": {},
   "outputs": [
    {
     "data": {
      "text/plain": [
       "Text(0, 0.5, 'price')"
      ]
     },
     "execution_count": 2435,
     "metadata": {},
     "output_type": "execute_result"
    },
    {
     "data": {
      "image/png": "[encoded data removed]",
      "text/plain": [
       "<Figure size 432x288 with 1 Axes>"
      ]
     },
     "metadata": {
      "needs_background": "light"
     },
     "output_type": "display_data"
    }
   ],
   "source": [
    "#plot reviews aghainst the price and name the axis with the clean data\n",
    "plt.scatter(dataset['reviews_per_month'], dataset['price'])\n",
    "plt.xlabel('number of reviews')\n",
    "plt.ylabel('price')\n"
   ]
  },
  {
   "cell_type": "code",
   "execution_count": 2436,
   "metadata": {},
   "outputs": [
    {
     "data": {
      "text/plain": [
       "<AxesSubplot:xlabel='neighbourhood'>"
      ]
     },
     "execution_count": 2436,
     "metadata": {},
     "output_type": "execute_result"
    },
    {
     "data": {
      "image/png": "[encoded data removed]",
      "text/plain": [
       "<Figure size 432x288 with 1 Axes>"
      ]
     },
     "metadata": {
      "needs_background": "light"
     },
     "output_type": "display_data"
    }
   ],
   "source": [
    "#make histogram for average price in each neighborhood\n",
    "dataset.groupby('neighbourhood')['price'].mean().plot(kind='bar')"
   ]
  },
  {
   "cell_type": "markdown",
   "metadata": {},
   "source": [
    "We want to predict weather the price is low so we start by defining what is a low price\n",
    "We decide that a low price is a price that is lower than the median price of housing"
   ]
  },
  {
   "cell_type": "code",
   "execution_count": 2437,
   "metadata": {},
   "outputs": [],
   "source": [
    "#define a low price threshold\n",
    "#we will use the median price as the threshold for low price\n",
    "low_price_threshold = dataset['price'].median()\n",
    "#this means low price is lower than the median price"
   ]
  },
  {
   "cell_type": "markdown",
   "metadata": {},
   "source": [
    "make a plot with houses more expensive than the threshold red and less expensive as green"
   ]
  },
  {
   "cell_type": "code",
   "execution_count": 2438,
   "metadata": {},
   "outputs": [
    {
     "data": {
      "text/plain": [
       "<matplotlib.collections.PathCollection at 0x7fcb000e9370>"
      ]
     },
     "execution_count": 2438,
     "metadata": {},
     "output_type": "execute_result"
    },
    {
     "data": {
      "image/png": "[encoded data removed]",
      "text/plain": [
       "<Figure size 432x288 with 1 Axes>"
      ]
     },
     "metadata": {
      "needs_background": "light"
     },
     "output_type": "display_data"
    }
   ],
   "source": [
    "#make a scatter plot from longitude and latitude with green dots if the price is lower than the median price and red dots if the price is higher than the median price\n",
    "plt.scatter(dataset['longitude'], dataset['latitude'], c=dataset['price']<low_price_threshold, cmap='RdYlGn', alpha=1, edgecolors='none',s=5)\n"
   ]
  },
  {
   "cell_type": "markdown",
   "metadata": {},
   "source": [
    "want to see how many listings are more expensive and how many listings are less expensive than the median benchmark"
   ]
  },
  {
   "cell_type": "code",
   "execution_count": 2439,
   "metadata": {},
   "outputs": [
    {
     "name": "stdout",
     "output_type": "stream",
     "text": [
      "There are 4479 listings below the threshold\n",
      "There are 4482 listings above the threshold\n"
     ]
    }
   ],
   "source": [
    "#check how many listings are below the threshold\n",
    "low_price = dataset[dataset['price'] < low_price_threshold]\n",
    "print('There are {} listings below the threshold'.format(len(low_price)))\n",
    "#check how many listings are above the threshold\n",
    "high_price = dataset[dataset['price'] > low_price_threshold]\n",
    "print('There are {} listings above the threshold'.format(len(high_price)))"
   ]
  },
  {
   "cell_type": "markdown",
   "metadata": {},
   "source": [
    "We see that the dataset is pretty evenly split"
   ]
  },
  {
   "cell_type": "markdown",
   "metadata": {},
   "source": [
    "Now we want to predict weather the price will be low or high"
   ]
  },
  {
   "cell_type": "code",
   "execution_count": 2440,
   "metadata": {},
   "outputs": [],
   "source": [
    "#prepare the dataset for classification\n",
    "#we will use the price as the target variable\n",
    "\n",
    "#step 1: create a new column called 'low_price'\n",
    "#step 2: assign 1 to the low price and 0 to the high price\n",
    "dataset['low_price'] = np.where(dataset['price'] < low_price_threshold, 1, 0)\n",
    "\n"
   ]
  },
  {
   "cell_type": "markdown",
   "metadata": {},
   "source": [
    "Now we create the model"
   ]
  },
  {
   "cell_type": "code",
   "execution_count": 2441,
   "metadata": {},
   "outputs": [],
   "source": [
    "from sklearn.linear_model import LogisticRegression\n",
    "LogReg=LogisticRegression(max_iter=100000)"
   ]
  },
  {
   "cell_type": "markdown",
   "metadata": {},
   "source": [
    "Now we have a empty model\n",
    "Start by creating a test set with (2/3) of the data and training set with the remaining (1/3)"
   ]
  },
  {
   "cell_type": "code",
   "execution_count": 2442,
   "metadata": {},
   "outputs": [],
   "source": [
    "#create the training and testing sets\n",
    "#we will use 2/3 of the data for training and 1/3 for testing\n",
    "split = int(len(dataset)*2/3)\n",
    "train = dataset[:split]\n",
    "test = dataset[split:]"
   ]
  },
  {
   "cell_type": "markdown",
   "metadata": {},
   "source": [
    "Make dummy variables"
   ]
  },
  {
   "cell_type": "code",
   "execution_count": 2443,
   "metadata": {},
   "outputs": [],
   "source": [
    "#make dummy variables for neighbourhood and room type\n",
    "train = pd.get_dummies(train, columns=['neighbourhood','room_type'])\n",
    "test = pd.get_dummies(test, columns=['neighbourhood','room_type'])"
   ]
  },
  {
   "cell_type": "markdown",
   "metadata": {},
   "source": [
    "Now we want to pick the x and y for the sets.\n",
    "Y is the stress variable in this case and x are almost all other columns\n",
    "start by taking a look at the other columns"
   ]
  },
  {
   "cell_type": "code",
   "execution_count": 2444,
   "metadata": {},
   "outputs": [
    {
     "data": {
      "text/plain": [
       "Index(['id', 'name', 'host_id', 'host_name', 'latitude', 'longitude', 'price',\n",
       "       'minimum_nights', 'number_of_reviews', 'last_review',\n",
       "       'reviews_per_month', 'calculated_host_listings_count',\n",
       "       'availability_365', 'number_of_reviews_ltm', 'low_price',\n",
       "       'neighbourhood_Amager Vest', 'neighbourhood_Amager st',\n",
       "       'neighbourhood_Bispebjerg', 'neighbourhood_Brnshj-Husum',\n",
       "       'neighbourhood_Frederiksberg', 'neighbourhood_Indre By',\n",
       "       'neighbourhood_Nrrebro', 'neighbourhood_Valby', 'neighbourhood_Vanlse',\n",
       "       'neighbourhood_Vesterbro-Kongens Enghave', 'neighbourhood_sterbro',\n",
       "       'room_type_Entire home/apt', 'room_type_Hotel room',\n",
       "       'room_type_Private room', 'room_type_Shared room'],\n",
       "      dtype='object')"
      ]
     },
     "execution_count": 2444,
     "metadata": {},
     "output_type": "execute_result"
    }
   ],
   "source": [
    "train.columns"
   ]
  },
  {
   "cell_type": "code",
   "execution_count": 2445,
   "metadata": {},
   "outputs": [
    {
     "data": {
      "text/html": [
       "<div>\n",
       "<style scoped>\n",
       "    .dataframe tbody tr th:only-of-type {\n",
       "        vertical-align: middle;\n",
       "    }\n",
       "\n",
       "    .dataframe tbody tr th {\n",
       "        vertical-align: top;\n",
       "    }\n",
       "\n",
       "    .dataframe thead th {\n",
       "        text-align: right;\n",
       "    }\n",
       "</style>\n",
       "<table border=\"1\" class=\"dataframe\">\n",
       "  <thead>\n",
       "    <tr style=\"text-align: right;\">\n",
       "      <th></th>\n",
       "      <th>10246</th>\n",
       "      <th>10247</th>\n",
       "      <th>10250</th>\n",
       "      <th>10251</th>\n",
       "      <th>10252</th>\n",
       "    </tr>\n",
       "  </thead>\n",
       "  <tbody>\n",
       "    <tr>\n",
       "      <th>id</th>\n",
       "      <td>594581234205365141</td>\n",
       "      <td>594611857554778787</td>\n",
       "      <td>594750876141494330</td>\n",
       "      <td>594776240518859379</td>\n",
       "      <td>594798397908003911</td>\n",
       "    </tr>\n",
       "    <tr>\n",
       "      <th>name</th>\n",
       "      <td>Beautiful waterfront apartment with two balconys.</td>\n",
       "      <td>Beautiful space in historic City Center building</td>\n",
       "      <td>Apartment in the heart of trendy Nørrebro</td>\n",
       "      <td>Cozy apartment in Copenhagen’s hippest area</td>\n",
       "      <td>Lækker lejlighed i Carlsbergbyen på Vesterbro</td>\n",
       "    </tr>\n",
       "    <tr>\n",
       "      <th>host_id</th>\n",
       "      <td>72762323</td>\n",
       "      <td>400037748</td>\n",
       "      <td>19457000</td>\n",
       "      <td>165581480</td>\n",
       "      <td>24329854</td>\n",
       "    </tr>\n",
       "    <tr>\n",
       "      <th>host_name</th>\n",
       "      <td>Siri</td>\n",
       "      <td>Frederikke</td>\n",
       "      <td>Harprit</td>\n",
       "      <td>Nathalie</td>\n",
       "      <td>Kamilla Hedegaard</td>\n",
       "    </tr>\n",
       "    <tr>\n",
       "      <th>latitude</th>\n",
       "      <td>55.65838</td>\n",
       "      <td>55.67646</td>\n",
       "      <td>55.69146</td>\n",
       "      <td>55.69247</td>\n",
       "      <td>55.66666</td>\n",
       "    </tr>\n",
       "    <tr>\n",
       "      <th>longitude</th>\n",
       "      <td>12.56113</td>\n",
       "      <td>12.576235</td>\n",
       "      <td>12.56275</td>\n",
       "      <td>12.55947</td>\n",
       "      <td>12.53223</td>\n",
       "    </tr>\n",
       "    <tr>\n",
       "      <th>price</th>\n",
       "      <td>1350</td>\n",
       "      <td>1357</td>\n",
       "      <td>850</td>\n",
       "      <td>950</td>\n",
       "      <td>1500</td>\n",
       "    </tr>\n",
       "    <tr>\n",
       "      <th>minimum_nights</th>\n",
       "      <td>5</td>\n",
       "      <td>5</td>\n",
       "      <td>2</td>\n",
       "      <td>5</td>\n",
       "      <td>2</td>\n",
       "    </tr>\n",
       "    <tr>\n",
       "      <th>number_of_reviews</th>\n",
       "      <td>2</td>\n",
       "      <td>4</td>\n",
       "      <td>3</td>\n",
       "      <td>3</td>\n",
       "      <td>4</td>\n",
       "    </tr>\n",
       "    <tr>\n",
       "      <th>last_review</th>\n",
       "      <td>2022-08-23</td>\n",
       "      <td>2022-08-14</td>\n",
       "      <td>2022-06-06</td>\n",
       "      <td>2022-08-14</td>\n",
       "      <td>2022-07-20</td>\n",
       "    </tr>\n",
       "    <tr>\n",
       "      <th>reviews_per_month</th>\n",
       "      <td>0.37</td>\n",
       "      <td>1.82</td>\n",
       "      <td>0.68</td>\n",
       "      <td>0.8</td>\n",
       "      <td>0.78</td>\n",
       "    </tr>\n",
       "    <tr>\n",
       "      <th>calculated_host_listings_count</th>\n",
       "      <td>1</td>\n",
       "      <td>1</td>\n",
       "      <td>1</td>\n",
       "      <td>1</td>\n",
       "      <td>1</td>\n",
       "    </tr>\n",
       "    <tr>\n",
       "      <th>availability_365</th>\n",
       "      <td>266</td>\n",
       "      <td>1</td>\n",
       "      <td>8</td>\n",
       "      <td>12</td>\n",
       "      <td>161</td>\n",
       "    </tr>\n",
       "    <tr>\n",
       "      <th>number_of_reviews_ltm</th>\n",
       "      <td>2</td>\n",
       "      <td>4</td>\n",
       "      <td>3</td>\n",
       "      <td>3</td>\n",
       "      <td>4</td>\n",
       "    </tr>\n",
       "    <tr>\n",
       "      <th>low_price</th>\n",
       "      <td>0</td>\n",
       "      <td>0</td>\n",
       "      <td>1</td>\n",
       "      <td>1</td>\n",
       "      <td>0</td>\n",
       "    </tr>\n",
       "    <tr>\n",
       "      <th>neighbourhood_Amager Vest</th>\n",
       "      <td>0</td>\n",
       "      <td>0</td>\n",
       "      <td>0</td>\n",
       "      <td>0</td>\n",
       "      <td>0</td>\n",
       "    </tr>\n",
       "    <tr>\n",
       "      <th>neighbourhood_Amager st</th>\n",
       "      <td>0</td>\n",
       "      <td>0</td>\n",
       "      <td>0</td>\n",
       "      <td>0</td>\n",
       "      <td>0</td>\n",
       "    </tr>\n",
       "    <tr>\n",
       "      <th>neighbourhood_Bispebjerg</th>\n",
       "      <td>0</td>\n",
       "      <td>0</td>\n",
       "      <td>0</td>\n",
       "      <td>0</td>\n",
       "      <td>0</td>\n",
       "    </tr>\n",
       "    <tr>\n",
       "      <th>neighbourhood_Brnshj-Husum</th>\n",
       "      <td>0</td>\n",
       "      <td>0</td>\n",
       "      <td>0</td>\n",
       "      <td>0</td>\n",
       "      <td>0</td>\n",
       "    </tr>\n",
       "    <tr>\n",
       "      <th>neighbourhood_Frederiksberg</th>\n",
       "      <td>0</td>\n",
       "      <td>0</td>\n",
       "      <td>0</td>\n",
       "      <td>0</td>\n",
       "      <td>0</td>\n",
       "    </tr>\n",
       "    <tr>\n",
       "      <th>neighbourhood_Indre By</th>\n",
       "      <td>0</td>\n",
       "      <td>1</td>\n",
       "      <td>0</td>\n",
       "      <td>0</td>\n",
       "      <td>0</td>\n",
       "    </tr>\n",
       "    <tr>\n",
       "      <th>neighbourhood_Nrrebro</th>\n",
       "      <td>0</td>\n",
       "      <td>0</td>\n",
       "      <td>1</td>\n",
       "      <td>1</td>\n",
       "      <td>0</td>\n",
       "    </tr>\n",
       "    <tr>\n",
       "      <th>neighbourhood_Valby</th>\n",
       "      <td>0</td>\n",
       "      <td>0</td>\n",
       "      <td>0</td>\n",
       "      <td>0</td>\n",
       "      <td>0</td>\n",
       "    </tr>\n",
       "    <tr>\n",
       "      <th>neighbourhood_Vanlse</th>\n",
       "      <td>0</td>\n",
       "      <td>0</td>\n",
       "      <td>0</td>\n",
       "      <td>0</td>\n",
       "      <td>0</td>\n",
       "    </tr>\n",
       "    <tr>\n",
       "      <th>neighbourhood_Vesterbro-Kongens Enghave</th>\n",
       "      <td>1</td>\n",
       "      <td>0</td>\n",
       "      <td>0</td>\n",
       "      <td>0</td>\n",
       "      <td>1</td>\n",
       "    </tr>\n",
       "    <tr>\n",
       "      <th>neighbourhood_sterbro</th>\n",
       "      <td>0</td>\n",
       "      <td>0</td>\n",
       "      <td>0</td>\n",
       "      <td>0</td>\n",
       "      <td>0</td>\n",
       "    </tr>\n",
       "    <tr>\n",
       "      <th>room_type_Entire home/apt</th>\n",
       "      <td>1</td>\n",
       "      <td>1</td>\n",
       "      <td>1</td>\n",
       "      <td>1</td>\n",
       "      <td>1</td>\n",
       "    </tr>\n",
       "    <tr>\n",
       "      <th>room_type_Hotel room</th>\n",
       "      <td>0</td>\n",
       "      <td>0</td>\n",
       "      <td>0</td>\n",
       "      <td>0</td>\n",
       "      <td>0</td>\n",
       "    </tr>\n",
       "    <tr>\n",
       "      <th>room_type_Private room</th>\n",
       "      <td>0</td>\n",
       "      <td>0</td>\n",
       "      <td>0</td>\n",
       "      <td>0</td>\n",
       "      <td>0</td>\n",
       "    </tr>\n",
       "  </tbody>\n",
       "</table>\n",
       "</div>"
      ],
      "text/plain": [
       "                                                                                     10246  \\\n",
       "id                                                                      594581234205365141   \n",
       "name                                     Beautiful waterfront apartment with two balconys.   \n",
       "host_id                                                                           72762323   \n",
       "host_name                                                                             Siri   \n",
       "latitude                                                                          55.65838   \n",
       "longitude                                                                         12.56113   \n",
       "price                                                                                 1350   \n",
       "minimum_nights                                                                           5   \n",
       "number_of_reviews                                                                        2   \n",
       "last_review                                                                     2022-08-23   \n",
       "reviews_per_month                                                                     0.37   \n",
       "calculated_host_listings_count                                                           1   \n",
       "availability_365                                                                       266   \n",
       "number_of_reviews_ltm                                                                    2   \n",
       "low_price                                                                                0   \n",
       "neighbourhood_Amager Vest                                                                0   \n",
       "neighbourhood_Amager st                                                                  0   \n",
       "neighbourhood_Bispebjerg                                                                 0   \n",
       "neighbourhood_Brnshj-Husum                                                               0   \n",
       "neighbourhood_Frederiksberg                                                              0   \n",
       "neighbourhood_Indre By                                                                   0   \n",
       "neighbourhood_Nrrebro                                                                    0   \n",
       "neighbourhood_Valby                                                                      0   \n",
       "neighbourhood_Vanlse                                                                     0   \n",
       "neighbourhood_Vesterbro-Kongens Enghave                                                  1   \n",
       "neighbourhood_sterbro                                                                    0   \n",
       "room_type_Entire home/apt                                                                1   \n",
       "room_type_Hotel room                                                                     0   \n",
       "room_type_Private room                                                                   0   \n",
       "\n",
       "                                                                                    10247  \\\n",
       "id                                                                     594611857554778787   \n",
       "name                                     Beautiful space in historic City Center building   \n",
       "host_id                                                                         400037748   \n",
       "host_name                                                                      Frederikke   \n",
       "latitude                                                                         55.67646   \n",
       "longitude                                                                       12.576235   \n",
       "price                                                                                1357   \n",
       "minimum_nights                                                                          5   \n",
       "number_of_reviews                                                                       4   \n",
       "last_review                                                                    2022-08-14   \n",
       "reviews_per_month                                                                    1.82   \n",
       "calculated_host_listings_count                                                          1   \n",
       "availability_365                                                                        1   \n",
       "number_of_reviews_ltm                                                                   4   \n",
       "low_price                                                                               0   \n",
       "neighbourhood_Amager Vest                                                               0   \n",
       "neighbourhood_Amager st                                                                 0   \n",
       "neighbourhood_Bispebjerg                                                                0   \n",
       "neighbourhood_Brnshj-Husum                                                              0   \n",
       "neighbourhood_Frederiksberg                                                             0   \n",
       "neighbourhood_Indre By                                                                  1   \n",
       "neighbourhood_Nrrebro                                                                   0   \n",
       "neighbourhood_Valby                                                                     0   \n",
       "neighbourhood_Vanlse                                                                    0   \n",
       "neighbourhood_Vesterbro-Kongens Enghave                                                 0   \n",
       "neighbourhood_sterbro                                                                   0   \n",
       "room_type_Entire home/apt                                                               1   \n",
       "room_type_Hotel room                                                                    0   \n",
       "room_type_Private room                                                                  0   \n",
       "\n",
       "                                                                             10250  \\\n",
       "id                                                              594750876141494330   \n",
       "name                                     Apartment in the heart of trendy Nørrebro   \n",
       "host_id                                                                   19457000   \n",
       "host_name                                                                  Harprit   \n",
       "latitude                                                                  55.69146   \n",
       "longitude                                                                 12.56275   \n",
       "price                                                                          850   \n",
       "minimum_nights                                                                   2   \n",
       "number_of_reviews                                                                3   \n",
       "last_review                                                             2022-06-06   \n",
       "reviews_per_month                                                             0.68   \n",
       "calculated_host_listings_count                                                   1   \n",
       "availability_365                                                                 8   \n",
       "number_of_reviews_ltm                                                            3   \n",
       "low_price                                                                        1   \n",
       "neighbourhood_Amager Vest                                                        0   \n",
       "neighbourhood_Amager st                                                          0   \n",
       "neighbourhood_Bispebjerg                                                         0   \n",
       "neighbourhood_Brnshj-Husum                                                       0   \n",
       "neighbourhood_Frederiksberg                                                      0   \n",
       "neighbourhood_Indre By                                                           0   \n",
       "neighbourhood_Nrrebro                                                            1   \n",
       "neighbourhood_Valby                                                              0   \n",
       "neighbourhood_Vanlse                                                             0   \n",
       "neighbourhood_Vesterbro-Kongens Enghave                                          0   \n",
       "neighbourhood_sterbro                                                            0   \n",
       "room_type_Entire home/apt                                                        1   \n",
       "room_type_Hotel room                                                             0   \n",
       "room_type_Private room                                                           0   \n",
       "\n",
       "                                                                               10251  \\\n",
       "id                                                                594776240518859379   \n",
       "name                                     Cozy apartment in Copenhagen’s hippest area   \n",
       "host_id                                                                    165581480   \n",
       "host_name                                                                   Nathalie   \n",
       "latitude                                                                    55.69247   \n",
       "longitude                                                                   12.55947   \n",
       "price                                                                            950   \n",
       "minimum_nights                                                                     5   \n",
       "number_of_reviews                                                                  3   \n",
       "last_review                                                               2022-08-14   \n",
       "reviews_per_month                                                                0.8   \n",
       "calculated_host_listings_count                                                     1   \n",
       "availability_365                                                                  12   \n",
       "number_of_reviews_ltm                                                              3   \n",
       "low_price                                                                          1   \n",
       "neighbourhood_Amager Vest                                                          0   \n",
       "neighbourhood_Amager st                                                            0   \n",
       "neighbourhood_Bispebjerg                                                           0   \n",
       "neighbourhood_Brnshj-Husum                                                         0   \n",
       "neighbourhood_Frederiksberg                                                        0   \n",
       "neighbourhood_Indre By                                                             0   \n",
       "neighbourhood_Nrrebro                                                              1   \n",
       "neighbourhood_Valby                                                                0   \n",
       "neighbourhood_Vanlse                                                               0   \n",
       "neighbourhood_Vesterbro-Kongens Enghave                                            0   \n",
       "neighbourhood_sterbro                                                              0   \n",
       "room_type_Entire home/apt                                                          1   \n",
       "room_type_Hotel room                                                               0   \n",
       "room_type_Private room                                                             0   \n",
       "\n",
       "                                                                                 10252  \n",
       "id                                                                  594798397908003911  \n",
       "name                                     Lækker lejlighed i Carlsbergbyen på Vesterbro  \n",
       "host_id                                                                       24329854  \n",
       "host_name                                                            Kamilla Hedegaard  \n",
       "latitude                                                                      55.66666  \n",
       "longitude                                                                     12.53223  \n",
       "price                                                                             1500  \n",
       "minimum_nights                                                                       2  \n",
       "number_of_reviews                                                                    4  \n",
       "last_review                                                                 2022-07-20  \n",
       "reviews_per_month                                                                 0.78  \n",
       "calculated_host_listings_count                                                       1  \n",
       "availability_365                                                                   161  \n",
       "number_of_reviews_ltm                                                                4  \n",
       "low_price                                                                            0  \n",
       "neighbourhood_Amager Vest                                                            0  \n",
       "neighbourhood_Amager st                                                              0  \n",
       "neighbourhood_Bispebjerg                                                             0  \n",
       "neighbourhood_Brnshj-Husum                                                           0  \n",
       "neighbourhood_Frederiksberg                                                          0  \n",
       "neighbourhood_Indre By                                                               0  \n",
       "neighbourhood_Nrrebro                                                                0  \n",
       "neighbourhood_Valby                                                                  0  \n",
       "neighbourhood_Vanlse                                                                 0  \n",
       "neighbourhood_Vesterbro-Kongens Enghave                                              1  \n",
       "neighbourhood_sterbro                                                                0  \n",
       "room_type_Entire home/apt                                                            1  \n",
       "room_type_Hotel room                                                                 0  \n",
       "room_type_Private room                                                               0  "
      ]
     },
     "execution_count": 2445,
     "metadata": {},
     "output_type": "execute_result"
    }
   ],
   "source": [
    "test.head().T"
   ]
  },
  {
   "cell_type": "markdown",
   "metadata": {},
   "source": [
    "Make the x- and x/y_train,y/y_test with useful predictors"
   ]
  },
  {
   "cell_type": "code",
   "execution_count": 2446,
   "metadata": {},
   "outputs": [],
   "source": [
    "#create a list of features we intend to use\n",
    "base_list = ['reviews_per_month','calculated_host_listings_count','neighbourhood_Amager Vest', 'neighbourhood_Amager st',\n",
    "       'neighbourhood_Bispebjerg', 'neighbourhood_Brnshj-Husum','calculated_host_listings_count',\n",
    "       'neighbourhood_Frederiksberg', 'neighbourhood_Indre By',\n",
    "       'neighbourhood_Nrrebro', 'neighbourhood_Valby', 'neighbourhood_Vanlse',\n",
    "       'neighbourhood_Vesterbro-Kongens Enghave', 'neighbourhood_sterbro',\n",
    "       'room_type_Entire home/apt', 'room_type_Hotel room',\n",
    "       'room_type_Private room']\n",
    "x_train = train[base_list]\n",
    "x_test = test[base_list]\n",
    "\n",
    "y_train = train['low_price']\n",
    "\n",
    "y_test=test['low_price']"
   ]
  },
  {
   "cell_type": "code",
   "execution_count": 2447,
   "metadata": {},
   "outputs": [
    {
     "data": {
      "text/html": [
       "<div>\n",
       "<style scoped>\n",
       "    .dataframe tbody tr th:only-of-type {\n",
       "        vertical-align: middle;\n",
       "    }\n",
       "\n",
       "    .dataframe tbody tr th {\n",
       "        vertical-align: top;\n",
       "    }\n",
       "\n",
       "    .dataframe thead th {\n",
       "        text-align: right;\n",
       "    }\n",
       "</style>\n",
       "<table border=\"1\" class=\"dataframe\">\n",
       "  <thead>\n",
       "    <tr style=\"text-align: right;\">\n",
       "      <th></th>\n",
       "      <th>1</th>\n",
       "      <th>2</th>\n",
       "      <th>3</th>\n",
       "      <th>5</th>\n",
       "      <th>6</th>\n",
       "    </tr>\n",
       "  </thead>\n",
       "  <tbody>\n",
       "    <tr>\n",
       "      <th>reviews_per_month</th>\n",
       "      <td>0.55</td>\n",
       "      <td>2.06</td>\n",
       "      <td>0.16</td>\n",
       "      <td>0.54</td>\n",
       "      <td>0.05</td>\n",
       "    </tr>\n",
       "    <tr>\n",
       "      <th>calculated_host_listings_count</th>\n",
       "      <td>1.00</td>\n",
       "      <td>3.00</td>\n",
       "      <td>1.00</td>\n",
       "      <td>2.00</td>\n",
       "      <td>1.00</td>\n",
       "    </tr>\n",
       "    <tr>\n",
       "      <th>neighbourhood_Amager Vest</th>\n",
       "      <td>0.00</td>\n",
       "      <td>0.00</td>\n",
       "      <td>0.00</td>\n",
       "      <td>0.00</td>\n",
       "      <td>0.00</td>\n",
       "    </tr>\n",
       "    <tr>\n",
       "      <th>neighbourhood_Amager st</th>\n",
       "      <td>0.00</td>\n",
       "      <td>0.00</td>\n",
       "      <td>0.00</td>\n",
       "      <td>0.00</td>\n",
       "      <td>0.00</td>\n",
       "    </tr>\n",
       "    <tr>\n",
       "      <th>neighbourhood_Bispebjerg</th>\n",
       "      <td>0.00</td>\n",
       "      <td>0.00</td>\n",
       "      <td>0.00</td>\n",
       "      <td>0.00</td>\n",
       "      <td>0.00</td>\n",
       "    </tr>\n",
       "    <tr>\n",
       "      <th>neighbourhood_Brnshj-Husum</th>\n",
       "      <td>0.00</td>\n",
       "      <td>0.00</td>\n",
       "      <td>0.00</td>\n",
       "      <td>0.00</td>\n",
       "      <td>0.00</td>\n",
       "    </tr>\n",
       "    <tr>\n",
       "      <th>calculated_host_listings_count</th>\n",
       "      <td>1.00</td>\n",
       "      <td>3.00</td>\n",
       "      <td>1.00</td>\n",
       "      <td>2.00</td>\n",
       "      <td>1.00</td>\n",
       "    </tr>\n",
       "    <tr>\n",
       "      <th>neighbourhood_Frederiksberg</th>\n",
       "      <td>0.00</td>\n",
       "      <td>0.00</td>\n",
       "      <td>0.00</td>\n",
       "      <td>0.00</td>\n",
       "      <td>0.00</td>\n",
       "    </tr>\n",
       "    <tr>\n",
       "      <th>neighbourhood_Indre By</th>\n",
       "      <td>1.00</td>\n",
       "      <td>1.00</td>\n",
       "      <td>0.00</td>\n",
       "      <td>0.00</td>\n",
       "      <td>0.00</td>\n",
       "    </tr>\n",
       "    <tr>\n",
       "      <th>neighbourhood_Nrrebro</th>\n",
       "      <td>0.00</td>\n",
       "      <td>0.00</td>\n",
       "      <td>0.00</td>\n",
       "      <td>0.00</td>\n",
       "      <td>0.00</td>\n",
       "    </tr>\n",
       "    <tr>\n",
       "      <th>neighbourhood_Valby</th>\n",
       "      <td>0.00</td>\n",
       "      <td>0.00</td>\n",
       "      <td>0.00</td>\n",
       "      <td>0.00</td>\n",
       "      <td>0.00</td>\n",
       "    </tr>\n",
       "    <tr>\n",
       "      <th>neighbourhood_Vanlse</th>\n",
       "      <td>0.00</td>\n",
       "      <td>0.00</td>\n",
       "      <td>0.00</td>\n",
       "      <td>0.00</td>\n",
       "      <td>0.00</td>\n",
       "    </tr>\n",
       "    <tr>\n",
       "      <th>neighbourhood_Vesterbro-Kongens Enghave</th>\n",
       "      <td>0.00</td>\n",
       "      <td>0.00</td>\n",
       "      <td>1.00</td>\n",
       "      <td>1.00</td>\n",
       "      <td>0.00</td>\n",
       "    </tr>\n",
       "    <tr>\n",
       "      <th>neighbourhood_sterbro</th>\n",
       "      <td>0.00</td>\n",
       "      <td>0.00</td>\n",
       "      <td>0.00</td>\n",
       "      <td>0.00</td>\n",
       "      <td>1.00</td>\n",
       "    </tr>\n",
       "    <tr>\n",
       "      <th>room_type_Entire home/apt</th>\n",
       "      <td>1.00</td>\n",
       "      <td>1.00</td>\n",
       "      <td>1.00</td>\n",
       "      <td>1.00</td>\n",
       "      <td>1.00</td>\n",
       "    </tr>\n",
       "    <tr>\n",
       "      <th>room_type_Hotel room</th>\n",
       "      <td>0.00</td>\n",
       "      <td>0.00</td>\n",
       "      <td>0.00</td>\n",
       "      <td>0.00</td>\n",
       "      <td>0.00</td>\n",
       "    </tr>\n",
       "    <tr>\n",
       "      <th>room_type_Private room</th>\n",
       "      <td>0.00</td>\n",
       "      <td>0.00</td>\n",
       "      <td>0.00</td>\n",
       "      <td>0.00</td>\n",
       "      <td>0.00</td>\n",
       "    </tr>\n",
       "  </tbody>\n",
       "</table>\n",
       "</div>"
      ],
      "text/plain": [
       "                                            1     2     3     5     6\n",
       "reviews_per_month                        0.55  2.06  0.16  0.54  0.05\n",
       "calculated_host_listings_count           1.00  3.00  1.00  2.00  1.00\n",
       "neighbourhood_Amager Vest                0.00  0.00  0.00  0.00  0.00\n",
       "neighbourhood_Amager st                  0.00  0.00  0.00  0.00  0.00\n",
       "neighbourhood_Bispebjerg                 0.00  0.00  0.00  0.00  0.00\n",
       "neighbourhood_Brnshj-Husum               0.00  0.00  0.00  0.00  0.00\n",
       "calculated_host_listings_count           1.00  3.00  1.00  2.00  1.00\n",
       "neighbourhood_Frederiksberg              0.00  0.00  0.00  0.00  0.00\n",
       "neighbourhood_Indre By                   1.00  1.00  0.00  0.00  0.00\n",
       "neighbourhood_Nrrebro                    0.00  0.00  0.00  0.00  0.00\n",
       "neighbourhood_Valby                      0.00  0.00  0.00  0.00  0.00\n",
       "neighbourhood_Vanlse                     0.00  0.00  0.00  0.00  0.00\n",
       "neighbourhood_Vesterbro-Kongens Enghave  0.00  0.00  1.00  1.00  0.00\n",
       "neighbourhood_sterbro                    0.00  0.00  0.00  0.00  1.00\n",
       "room_type_Entire home/apt                1.00  1.00  1.00  1.00  1.00\n",
       "room_type_Hotel room                     0.00  0.00  0.00  0.00  0.00\n",
       "room_type_Private room                   0.00  0.00  0.00  0.00  0.00"
      ]
     },
     "execution_count": 2447,
     "metadata": {},
     "output_type": "execute_result"
    }
   ],
   "source": [
    "x_train[:5].T"
   ]
  },
  {
   "cell_type": "code",
   "execution_count": 2448,
   "metadata": {},
   "outputs": [],
   "source": [
    "y_train = train['low_price']\n",
    "\n",
    "y_test = test['low_price']"
   ]
  },
  {
   "cell_type": "code",
   "execution_count": 2449,
   "metadata": {},
   "outputs": [
    {
     "data": {
      "text/plain": [
       "LogisticRegression(max_iter=100000)"
      ]
     },
     "execution_count": 2449,
     "metadata": {},
     "output_type": "execute_result"
    }
   ],
   "source": [
    "#remove nan values\n",
    "x_train = x_train.fillna(0)\n",
    "x_test = x_test.fillna(0)\n",
    "#use logistic regression to train the model\n",
    "LogReg.fit(x_train, y_train)"
   ]
  },
  {
   "cell_type": "markdown",
   "metadata": {},
   "source": [
    "Check the accuracy of the model"
   ]
  },
  {
   "cell_type": "code",
   "execution_count": 2450,
   "metadata": {},
   "outputs": [
    {
     "name": "stdout",
     "output_type": "stream",
     "text": [
      "0.6461538461538462\n",
      "0.6624853654457267\n"
     ]
    }
   ],
   "source": [
    "print(LogReg.score(x_test,y_test))\n",
    "print(LogReg.score(x_train, y_train))"
   ]
  },
  {
   "cell_type": "markdown",
   "metadata": {},
   "source": [
    "Since both values are close the model is most likely not overfitting"
   ]
  },
  {
   "cell_type": "markdown",
   "metadata": {},
   "source": [
    "Next we want to check the confusion matrix"
   ]
  },
  {
   "cell_type": "code",
   "execution_count": 2451,
   "metadata": {},
   "outputs": [
    {
     "name": "stdout",
     "output_type": "stream",
     "text": [
      "[[ 863  585]\n",
      " [ 473 1069]]\n"
     ]
    }
   ],
   "source": [
    "#make the confusion matrix\n",
    "from sklearn.metrics import confusion_matrix\n",
    "y_pred = LogReg.predict(x_test)\n",
    "cm = confusion_matrix(y_test, y_pred)\n",
    "print(cm)"
   ]
  },
  {
   "cell_type": "markdown",
   "metadata": {},
   "source": [
    "Make a more graphical verison"
   ]
  },
  {
   "cell_type": "code",
   "execution_count": 2452,
   "metadata": {},
   "outputs": [
    {
     "data": {
      "text/plain": [
       "<AxesSubplot:>"
      ]
     },
     "execution_count": 2452,
     "metadata": {},
     "output_type": "execute_result"
    },
    {
     "data": {
      "image/png": "[encoded data removed]",
      "text/plain": [
       "<Figure size 432x288 with 2 Axes>"
      ]
     },
     "metadata": {
      "needs_background": "light"
     },
     "output_type": "display_data"
    }
   ],
   "source": [
    "#visualize the confusion matrix\n",
    "import seaborn as sns\n",
    "sns.heatmap(cm, annot=True, fmt='d')"
   ]
  },
  {
   "cell_type": "code",
   "execution_count": 2453,
   "metadata": {},
   "outputs": [
    {
     "data": {
      "text/plain": [
       "0.6689612015018774"
      ]
     },
     "execution_count": 2453,
     "metadata": {},
     "output_type": "execute_result"
    }
   ],
   "source": [
    "#calculate the f1 score\n",
    "from sklearn.metrics import f1_score\n",
    "f1_score(y_test, y_pred)"
   ]
  },
  {
   "cell_type": "code",
   "execution_count": 2454,
   "metadata": {},
   "outputs": [],
   "source": [
    "#improve the model\n"
   ]
  }
 ],
 "metadata": {
  "kernelspec": {
   "display_name": "Python 3 (ipykernel)",
   "language": "python",
   "name": "python3"
  },
  "language_info": {
   "codemirror_mode": {
    "name": "ipython",
    "version": 3
   },
   "file_extension": ".py",
   "mimetype": "text/x-python",
   "name": "python",
   "nbconvert_exporter": "python",
   "pygments_lexer": "ipython3",
   "version": "3.9.12"
  },
  "vscode": {
   "interpreter": {
    "hash": "3719c24163ca00ec5c59a9736031ef7a251d1ea6de221ae0c99eec85a3e51bde"
   }
  }
 },
 "nbformat": 4,
 "nbformat_minor": 4
}
